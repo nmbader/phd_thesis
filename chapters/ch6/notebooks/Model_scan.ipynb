{
 "cells": [
  {
   "cell_type": "markdown",
   "metadata": {},
   "source": [
    "# Model (Vs0, epsilon, gamma) scan results"
   ]
  },
  {
   "cell_type": "code",
   "execution_count": null,
   "metadata": {},
   "outputs": [],
   "source": [
    "import sys\n",
    "\n",
    "pwd = !echo ${PWD}\n",
    "sys.path.append(pwd[0]+\"/../../../code/local/bin\")"
   ]
  },
  {
   "cell_type": "code",
   "execution_count": null,
   "metadata": {},
   "outputs": [],
   "source": [
    "import numpy as np\n",
    "from scipy import signal\n",
    "from scipy import ndimage\n",
    "import math\n",
    "import matplotlib.pyplot as plt\n",
    "from matplotlib import rcParams\n",
    "from matplotlib.ticker import FormatStrFormatter\n",
    "\n",
    "import seppy\n",
    "\n",
    "datapath=pwd[0]+\"/../dat/\"\n",
    "figpath=pwd[0]+\"/../fig/\""
   ]
  },
  {
   "cell_type": "code",
   "execution_count": null,
   "metadata": {},
   "outputs": [],
   "source": [
    "# utility functions\n",
    "\n",
    "def plotseis(d, p=0.9, valmin=1, valmax=-1, tmin=0, tmax=0.35, xmin=-600, xmax=600, grid=True, colorbar=False, curve=np.array([]), linestyle='--'):\n",
    "    \"\"\"Plot 2D seismic image\"\"\"\n",
    " \n",
    "    vmin=np.min(d) / p\n",
    "    vmax=p*np.max(d)\n",
    "    \n",
    "    if p<0:\n",
    "        vmax=-p*np.amax(d)\n",
    "        vmin=-vmax\n",
    "        \n",
    "    if valmin<valmax:\n",
    "        vmin=valmin\n",
    "        vmax=valmax\n",
    "        \n",
    "    nx=d.shape[0]\n",
    "                \n",
    "    fig=plt.figure(figsize=(6, 4),dpi=100)\n",
    "    plt.imshow(np.transpose(d),interpolation='sinc',aspect=\"auto\",extent=[xmin,xmax,tmax,tmin],cmap='Greys',vmin=vmin,vmax=vmax)\n",
    "    plt.xlabel('Offsetx (m)')\n",
    "    plt.ylabel('Time (sec)')\n",
    "    if grid==True:\n",
    "        plt.grid(color='r', linestyle='-', linewidth=0.2)\n",
    "    if colorbar==True:\n",
    "        plt.colorbar()\n",
    "    if curve.size>0:\n",
    "        plt.plot(np.linspace(xmin,xmax,nx),curve,linestyle)\n",
    "    plt.gca().yaxis.set_major_formatter(FormatStrFormatter('%.3f'))\n",
    "    \n",
    "    plt.show()\n",
    "    \n",
    "def traveltime(v=1500, tshift=0.02, xmin=-600, xmax=600, nx=1201, y=300):\n",
    "    \"\"\"Compute travel time curve with constant velocity and fixed time shift and offsety\"\"\"\n",
    "    \n",
    "    tt = np.sqrt((np.linspace(xmin,xmax,nx))**2 + y**2)/v + tshift\n",
    "    return tt\n",
    "\n",
    "def lmo(d,xmin=-600,xmax=600,y=300,v=1500,tshift=0,dt=0.002):\n",
    "    \"\"\"Apply linear moveout to seismic data\"\"\"\n",
    "    \n",
    "    nx=d.shape[0]\n",
    "    \n",
    "    tt = traveltime(v,0,xmin,xmax,nx,y)\n",
    "    lmo = np.copy(d)\n",
    "        \n",
    "    for ix in range(nx):\n",
    "        lmo[ix,:] = ndimage.shift(d[ix,:],(-tt[ix]+tshift)/dt)\n",
    "    \n",
    "    return lmo\n",
    "    \n",
    "def envelop(d):\n",
    "    \"\"\"Compute the envelop via Hilbert transform along the fast axis\"\"\"\n",
    "    \n",
    "    return np.absolute(signal.hilbert(d,axis=-1))"
   ]
  },
  {
   "cell_type": "code",
   "execution_count": null,
   "metadata": {},
   "outputs": [],
   "source": [
    "# load data\n",
    "sep = seppy.sep()\n",
    "\n",
    "sp=14\n",
    "\n",
    "axes, data = sep.read_file(datapath+\"ch6_data.H.bp\")\n",
    "das = data.reshape(axes.n,order='F').T\n",
    "das = das[sp]\n",
    "\n",
    "axes, data = sep.read_file(datapath+\"ch6_data.HH\")\n",
    "attr = data.reshape(axes.n,order='F').T\n",
    "attr = attr[sp]\n",
    "\n",
    "axes, data = sep.read_file(datapath+\"ch6_mute.H\")\n",
    "mute = data.reshape(axes.n,order='F').T\n",
    "mute = mute[sp]\n",
    "\n",
    "axes, data = sep.read_file(datapath+\"ch6_dyGny_sp14_vs_all.H.bp\")\n",
    "syn = data.reshape(axes.n,order='F').T\n",
    "\n",
    "ns = syn.shape[0]\n",
    "dt = axes.d[0]\n",
    "\n",
    "# apply mute to das and synthetic\n",
    "das = das*mute\n",
    "syn = syn*mute\n",
    "\n",
    "# all the Vs0 scaling tested (see Makefile)\n",
    "scalers=np.linspace(0,0.05,ns)"
   ]
  },
  {
   "cell_type": "markdown",
   "metadata": {},
   "source": [
    "### Part 1: Vs0 scan using SV arrival"
   ]
  },
  {
   "cell_type": "code",
   "execution_count": null,
   "metadata": {},
   "outputs": [],
   "source": [
    "# apply LMO to isolate the SV arrival\n",
    "offset = (attr[600,15]-attr[600,12])**2 + (attr[600,16]-attr[600,13])**2 + (attr[600,17]-attr[600,14])**2\n",
    "offset = math.sqrt(offset)\n",
    "tshift=0.1\n",
    "das_lmo = lmo(das,y=offset,v=1800,tshift=tshift, dt=dt)\n",
    "syn_lmo = np.copy(syn)\n",
    "for s in range(ns):\n",
    "    syn_lmo[s] = lmo(syn[s],y=offset,v=1800,tshift=tshift, dt=dt)"
   ]
  },
  {
   "cell_type": "code",
   "execution_count": null,
   "metadata": {},
   "outputs": [],
   "source": [
    "# FK denoising of DAS data\n",
    "\n",
    "# save to seplib\n",
    "sep.write_file(\"dtemp.H\", np.transpose(das_lmo), ds=np.array([1,1]), os=np.array([0,0]), dpath=pwd[0]+\"/\")\n",
    "\n",
    "# apply FK filter\n",
    "!${PWD}/../../../code/local/bin/FK_FILTER.x < dtemp.H kmin=-0.008 kmax=0.008 taper=0.01 > dtemp.H.fk datapath=./\n",
    "\n",
    "# read back\n",
    "axes, das_lmo_fk = sep.read_file(\"dtemp.H.fk\")\n",
    "das_lmo_fk = das_lmo_fk.reshape(axes.n,order='F').T\n",
    "\n",
    "# remove files from disk\n",
    "!rm -f dtemp*"
   ]
  },
  {
   "cell_type": "code",
   "execution_count": null,
   "metadata": {},
   "outputs": [],
   "source": [
    "# compute the envelop\n",
    "das_lmo_env = envelop(das_lmo)\n",
    "das_lmo_fk_env = envelop(das_lmo_fk)\n",
    "syn_lmo_env = envelop(syn_lmo)"
   ]
  },
  {
   "cell_type": "code",
   "execution_count": null,
   "metadata": {},
   "outputs": [],
   "source": [
    "# QC plots\n",
    "plotseis(das_lmo)\n",
    "plotseis(das_lmo_fk)\n",
    "plotseis(syn_lmo[0])"
   ]
  },
  {
   "cell_type": "code",
   "execution_count": null,
   "metadata": {},
   "outputs": [],
   "source": [
    "# build the cosine similarity functional\n",
    "cs=np.zeros((ns))\n",
    "\n",
    "for s in range(ns):\n",
    "    d1 = envelop(das_lmo_fk[:,int((tshift+0.01)/dt):int((tshift+0.08)/dt)])\n",
    "    d2 = envelop(syn_lmo[s,:,int((tshift+0.01)/dt):int((tshift+0.08)/dt)])\n",
    "    cs[s] = np.dot(d1.flatten(),d2.flatten())/(np.linalg.norm(d1)*np.linalg.norm(d2))"
   ]
  },
  {
   "cell_type": "code",
   "execution_count": null,
   "metadata": {},
   "outputs": [],
   "source": [
    "plotseis(d1,tmin=tshift+0.01,tmax=tshift+0.08)\n",
    "plotseis(d2,tmin=tshift+0.01,tmax=tshift+0.08)"
   ]
  },
  {
   "cell_type": "code",
   "execution_count": null,
   "metadata": {},
   "outputs": [],
   "source": [
    "xmax = scalers[np.argmax(cs)]\n",
    "plt.plot(scalers,cs,'k')\n",
    "plt.vlines(xmax,np.min(cs),np.max(cs),colors='r',linestyles='--')\n",
    "plt.xlabel(\"Scaler\")\n",
    "plt.ylabel(\"Similarity value\")\n",
    "plt.ylim([np.min(cs),np.max(cs)])\n",
    "\n",
    "print(\"The optimal scaler for Vs0 scan = %f\" %xmax)"
   ]
  },
  {
   "cell_type": "markdown",
   "metadata": {},
   "source": [
    "Using the optimal scaler above, update the Vs0 model and re-do another scan for epsilon and gamma"
   ]
  },
  {
   "cell_type": "markdown",
   "metadata": {},
   "source": [
    "### Part II: $\\epsilon$ and $\\gamma$ scans using P- and SH-arrivals simultaneously"
   ]
  },
  {
   "cell_type": "code",
   "execution_count": null,
   "metadata": {},
   "outputs": [],
   "source": [
    "# load data\n",
    "axes, data = sep.read_file(datapath+\"ch6_dyGny_sp14_aniso_all.H.bp\")\n",
    "syn2 = data.reshape(axes.n,order='F').T\n",
    "\n",
    "ns2 = syn2.shape[0]\n",
    "\n",
    "# apply mute to synthetic\n",
    "syn2 = syn2*mute\n",
    "\n",
    "# all the anisotropy scaling tested (see Makefile)\n",
    "scalers2=np.linspace(1.00,0.72,ns2)"
   ]
  },
  {
   "cell_type": "code",
   "execution_count": null,
   "metadata": {},
   "outputs": [],
   "source": [
    "# apply LMO to isolate the P- and SV-arrival\n",
    "tshift=0.1\n",
    "das_lmo_p = lmo(das,y=offset,v=4400,tshift=tshift, dt=dt)\n",
    "das_lmo_sh = lmo(das,y=offset,v=2600,tshift=tshift, dt=dt)\n",
    "syn2_lmo_p = np.copy(syn2)\n",
    "syn2_lmo_sh = np.copy(syn2)\n",
    "for s in range(ns2):\n",
    "    syn2_lmo_p[s] = lmo(syn2[s],y=offset,v=4400,tshift=tshift, dt=dt)\n",
    "    syn2_lmo_sh[s] = lmo(syn2[s],y=offset,v=2600,tshift=tshift, dt=dt)"
   ]
  },
  {
   "cell_type": "code",
   "execution_count": null,
   "metadata": {},
   "outputs": [],
   "source": [
    "# FK denoising of DAS data\n",
    "np.save('dtemp_p',das_lmo_p)\n",
    "np.save('dtemp_sh',das_lmo_sh)\n",
    "\n",
    "# save to seplib\n",
    "sep.write_file(\"dtemp_p.H\", np.transpose(das_lmo_p), ds=np.array([1,1]), os=np.array([0,0]), dpath=pwd[0]+\"/\")\n",
    "sep.write_file(\"dtemp_sh.H\", np.transpose(das_lmo_sh), ds=np.array([1,1]), os=np.array([0,0]), dpath=pwd[0]+\"/\")\n",
    "\n",
    "# apply FK filter\n",
    "!${PWD}/../../../code/local/bin/FK_FILTER.x < dtemp_p.H kmin=-0.008 kmax=0.008 taper=0.01 > dtemp_p.H.fk datapath=./\n",
    "!${PWD}/../../../code/local/bin/FK_FILTER.x < dtemp_sh.H kmin=-0.008 kmax=0.008 taper=0.01 > dtemp_sh.H.fk datapath=./\n",
    "\n",
    "# read back\n",
    "axes, das_lmo_p_fk = sep.read_file(\"dtemp_p.H.fk\")\n",
    "das_lmo_p_fk = das_lmo_p_fk.reshape(axes.n,order='F').T\n",
    "\n",
    "axes, das_lmo_sh_fk = sep.read_file(\"dtemp_sh.H.fk\")\n",
    "das_lmo_sh_fk = das_lmo_sh_fk.reshape(axes.n,order='F').T\n",
    "\n",
    "# remove files from disk\n",
    "!rm -f dtemp*"
   ]
  },
  {
   "cell_type": "code",
   "execution_count": null,
   "metadata": {},
   "outputs": [],
   "source": [
    "# compute the envelop\n",
    "das_lmo_p_env = envelop(das_lmo_p)\n",
    "das_lmo_sh_env = envelop(das_lmo_sh)\n",
    "das_lmo_p_fk_env = envelop(das_lmo_p_fk)\n",
    "das_lmo_sh_fk_env = envelop(das_lmo_sh_fk)\n",
    "syn2_lmo_p_env = envelop(syn2_lmo_p)\n",
    "syn2_lmo_sh_env = envelop(syn2_lmo_sh)"
   ]
  },
  {
   "cell_type": "code",
   "execution_count": null,
   "metadata": {},
   "outputs": [],
   "source": [
    "# QC plots\n",
    "plotseis(das_lmo_p)\n",
    "plotseis(das_lmo_p_fk)\n",
    "plotseis(syn2_lmo_p[0])\n",
    "\n",
    "plotseis(das_lmo_sh)\n",
    "plotseis(das_lmo_sh_fk)\n",
    "plotseis(syn2_lmo_sh[0])"
   ]
  },
  {
   "cell_type": "code",
   "execution_count": null,
   "metadata": {},
   "outputs": [],
   "source": [
    "# build the cosine similarity functional\n",
    "cs_p=np.zeros((ns2))\n",
    "cs_sh=np.zeros((ns2))\n",
    "\n",
    "for s in range(ns2):\n",
    "    d1_p = (das_lmo_p_fk[200:600,int((tshift+0.01)/dt):int((tshift+0.06)/dt)])\n",
    "    d2_p = (syn2_lmo_p[s,200:600,int((tshift+0.01)/dt):int((tshift+0.06)/dt)])\n",
    "    cs_p[s] = np.dot(d1_p.flatten(),d2_p.flatten())/(np.linalg.norm(d1_p)*np.linalg.norm(d2_p))\n",
    "\n",
    "    d1_sh = (das_lmo_sh_fk[200:600,int((tshift+0.01)/dt):int((tshift+0.06)/dt)])\n",
    "    d2_sh = (syn2_lmo_sh[s,200:600,int((tshift+0.01)/dt):int((tshift+0.06)/dt)])\n",
    "    cs_sh[s] = np.dot(d1_sh.flatten(),d2_sh.flatten())/(np.linalg.norm(d1_sh)*np.linalg.norm(d2_sh))"
   ]
  },
  {
   "cell_type": "code",
   "execution_count": null,
   "metadata": {},
   "outputs": [],
   "source": [
    "plotseis(d1_p,tmin=tshift+0.01,tmax=tshift+0.06, xmin=-400, xmax=0)\n",
    "plotseis(d2_p,tmin=tshift+0.01,tmax=tshift+0.06, xmin=-400, xmax=0)\n",
    "\n",
    "plotseis(d1_sh,tmin=tshift+0.01,tmax=tshift+0.06, xmin=-400, xmax=0)\n",
    "plotseis(d2_sh,tmin=tshift+0.01,tmax=tshift+0.06, xmin=-400, xmax=0)"
   ]
  },
  {
   "cell_type": "code",
   "execution_count": null,
   "metadata": {},
   "outputs": [],
   "source": [
    "xmax = scalers2[np.argmax(cs_p)]\n",
    "plt.plot(scalers2,cs_p,'k')\n",
    "plt.vlines(xmax,np.min(cs_p),np.max(cs_p),colors='r',linestyles='--')\n",
    "plt.xlabel(\"Scaler\")\n",
    "plt.ylabel(\"Similarity value\")\n",
    "plt.ylim([np.min(cs_p),np.max(cs_p)])\n",
    "\n",
    "print(\"The optimal scaler for epsilon scan = %f\" %xmax)"
   ]
  },
  {
   "cell_type": "code",
   "execution_count": null,
   "metadata": {},
   "outputs": [],
   "source": [
    "xmax = scalers2[np.argmax(cs_sh)]\n",
    "plt.plot(scalers2,cs_sh,'k')\n",
    "plt.vlines(xmax,np.min(cs_sh),np.max(cs_sh),colors='r',linestyles='--')\n",
    "plt.xlabel(\"Scaler\")\n",
    "plt.ylabel(\"Similarity value\")\n",
    "plt.ylim([np.min(cs_sh),np.max(cs_sh)])\n",
    "\n",
    "print(\"The optimal scaler for gamma scan = %f\" %xmax)"
   ]
  }
 ],
 "metadata": {
  "kernelspec": {
   "display_name": "Python 3 (ipykernel)",
   "language": "python",
   "name": "python3"
  },
  "language_info": {
   "codemirror_mode": {
    "name": "ipython",
    "version": 3
   },
   "file_extension": ".py",
   "mimetype": "text/x-python",
   "name": "python",
   "nbconvert_exporter": "python",
   "pygments_lexer": "ipython3",
   "version": "3.9.0"
  },
  "vscode": {
   "interpreter": {
    "hash": "cc312a6f1c33ac4e33b9a6bb183306aceb209bd3ff803bd9b2f959dc5f86b9f4"
   }
  }
 },
 "nbformat": 4,
 "nbformat_minor": 2
}
