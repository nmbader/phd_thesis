{
 "cells": [
  {
   "cell_type": "markdown",
   "metadata": {},
   "source": [
    "# Perform some data selection and grouping"
   ]
  },
  {
   "cell_type": "code",
   "execution_count": null,
   "metadata": {},
   "outputs": [],
   "source": [
    "import sys\n",
    "\n",
    "pwd = !echo ${PWD}\n",
    "sys.path.append(pwd[0]+\"/../../../code/local/bin\")"
   ]
  },
  {
   "cell_type": "code",
   "execution_count": null,
   "metadata": {},
   "outputs": [],
   "source": [
    "import numpy as np\n",
    "import pandas as pd\n",
    "from scipy import signal\n",
    "from scipy import ndimage\n",
    "import math\n",
    "import matplotlib.pyplot as plt\n",
    "from matplotlib import rcParams\n",
    "from matplotlib.ticker import FormatStrFormatter\n",
    "\n",
    "import seppy\n",
    "import os\n",
    "\n",
    "datapath=pwd[0]+\"/../dat/\"\n",
    "figpath=pwd[0]+\"/../fig/\""
   ]
  },
  {
   "cell_type": "code",
   "execution_count": null,
   "metadata": {},
   "outputs": [],
   "source": [
    "# read data, mask, headers, model, source functions\n",
    "\n",
    "sep = seppy.sep()\n",
    "\n",
    "data_axes, data = sep.read_file(datapath+\"ch6_data.H\")\n",
    "pdata = data.reshape(data_axes.n,order='F').T\n",
    "\n",
    "axes, data = sep.read_file(datapath+\"ch6_data.HH\")\n",
    "pattr = data.reshape(axes.n,order='F').T\n",
    "\n",
    "axes, data = sep.read_file(datapath+\"ch6_mute.H\")\n",
    "pmute = data.reshape(axes.n,order='F').T\n",
    "\n",
    "source_axes, data = sep.read_file(datapath+\"ch6_all_time_func.H\")\n",
    "psrc = data.reshape(source_axes.n,order='F').T\n",
    "\n",
    "model_axes, data = sep.read_file(datapath+\"ch6_model_scan.H\")\n",
    "pmodel = data.reshape(model_axes.n,order='F').T\n",
    "\n",
    "\n",
    "dt=data_axes.d[0]\n",
    "dx=data_axes.d[1]\n",
    "nt=data_axes.n[0]\n",
    "ntr=data_axes.n[1]\n",
    "ns=data_axes.n[2]\n",
    "\n",
    "sxyz=pattr[:,0,[2, 12, 13, 14, 0, 1]]\n",
    "sxyz[:,1:4] *= 0.001 # convert to km\n",
    "\n",
    "srxyz=pattr[:,:,[3, 15, 16, 17]]\n",
    "srxyz[:,:,1:4] *= 0.001 # convert to km"
   ]
  },
  {
   "cell_type": "code",
   "execution_count": null,
   "metadata": {},
   "outputs": [],
   "source": [
    "# apply constant time median filtering to the data to remove CMN\n",
    "for s in range(ns):\n",
    "    for it in range(pdata.shape[2]):\n",
    "        med = np.median(pdata[s,:,it])\n",
    "        pdata[s,:,it] -= med\n",
    "pdata *= pmute"
   ]
  },
  {
   "cell_type": "code",
   "execution_count": null,
   "metadata": {},
   "outputs": [],
   "source": [
    "extent=[model_axes.o[1],model_axes.o[1]+(model_axes.n[1]-1)*model_axes.d[1],model_axes.o[0]+(model_axes.n[0]-1)*model_axes.d[0],model_axes.o[0]]\n",
    "# ymed = np.median(sxyz[:,2])\n",
    "ymed=np.median(srxyz[:,:,2])\n",
    "iy = int((ymed - model_axes.o[2])/model_axes.d[2])\n",
    "\n",
    "plt.figure(figsize=(16,6))\n",
    "plt.imshow(np.transpose(pmodel[0,iy,:,:]),cmap='jet',extent=extent,vmin=2.5,vmax=6.0,interpolation='bilinear', aspect='auto')\n",
    "plt.colorbar().set_label(label=\"km/s\",size=16)\n",
    "plt.scatter(srxyz[:,:,1],srxyz[:,:,3],s=5,c='y',marker='.')\n",
    "plt.scatter(sxyz[:,1],sxyz[:,3],s=50,c=sxyz[:,4],marker='x')\n",
    "plt.xlabel(r'X (km)',fontsize=16)\n",
    "plt.ylabel(r'Depth (km)',fontsize=16)"
   ]
  },
  {
   "cell_type": "code",
   "execution_count": null,
   "metadata": {},
   "outputs": [],
   "source": [
    "# keep the last or second to last perf in each stage\n",
    "select1=np.array([4,8,11,14,19,23,26,29,32,36,40])\n",
    "select2=select1 - 1\n",
    "\n",
    "sxyz1=sxyz[select1,:]\n",
    "sxyz2=sxyz[select2,:]\n",
    "srxyz1=srxyz[select1,:,:]\n",
    "srxyz2=srxyz[select2,:,:]"
   ]
  },
  {
   "cell_type": "code",
   "execution_count": null,
   "metadata": {},
   "outputs": [],
   "source": [
    "extent=[model_axes.o[1],model_axes.o[1]+(model_axes.n[1]-1)*model_axes.d[1],model_axes.o[0]+(model_axes.n[0]-1)*model_axes.d[0],model_axes.o[0]]\n",
    "# ymed = np.median(sxyz[:,2])\n",
    "ymed=np.median(srxyz[:,:,2])\n",
    "iy = int((ymed - model_axes.o[2])/model_axes.d[2])\n",
    "\n",
    "plt.figure(figsize=(16,6))\n",
    "plt.imshow(np.transpose(pmodel[0,iy,:,:]),cmap='jet',extent=extent,vmin=2.5,vmax=6.0,interpolation='bilinear', aspect='auto')\n",
    "plt.colorbar().set_label(label=\"km/s\",size=16)\n",
    "plt.scatter(sxyz1[:,1],sxyz1[:,3],s=50,c=sxyz1[:,4],marker='x')\n",
    "plt.xlabel(r'X (km)',fontsize=16)\n",
    "plt.ylabel(r'Depth (km)',fontsize=16)"
   ]
  },
  {
   "cell_type": "code",
   "execution_count": null,
   "metadata": {},
   "outputs": [],
   "source": [
    "# select shots and create groups\n",
    "\n",
    "# group 1: last perf in each stage\n",
    "pdata1=pdata[select1,:,:]\n",
    "pmute1=pmute[select1,:,:]\n",
    "psrc1=psrc[select1,:,:]\n",
    "pattr1=pattr[select1,:,:]\n",
    "\n",
    "# group 2: second to last perf in each stage\n",
    "pdata2=pdata[select2,:,:]\n",
    "pmute2=pmute[select2,:,:]\n",
    "psrc2=psrc[select2,:,:]\n",
    "pattr2=pattr[select2,:,:]"
   ]
  },
  {
   "cell_type": "code",
   "execution_count": null,
   "metadata": {},
   "outputs": [],
   "source": [
    "# save the selections (data, mask, sources, headers)\n",
    "sep.write_file(datapath+\"ch6_data0_group1.H\", np.transpose(pdata1), ds=np.array([dt,1,1]), os=np.array([0,-600,0]), dpath=datapath)\n",
    "sep.write_file(datapath+\"ch6_data0_group2.H\", np.transpose(pdata2), ds=np.array([dt,1,1]), os=np.array([0,-600,0]), dpath=datapath)\n",
    "sep.write_file(datapath+\"ch6_data0_group1.HH\", np.transpose(pattr1), ds=np.array([1,1,1]), os=np.array([0,-600,0]), dpath=datapath)\n",
    "sep.write_file(datapath+\"ch6_data0_group2.HH\", np.transpose(pattr2), ds=np.array([1,1,1]), os=np.array([0,-600,0]), dpath=datapath)\n",
    "sep.write_file(datapath+\"ch6_mute0_group1.H\", np.transpose(pmute1), ds=np.array([dt,1,1]), os=np.array([0,-600,0]), dpath=datapath)\n",
    "sep.write_file(datapath+\"ch6_mute0_group2.H\", np.transpose(pmute2), ds=np.array([dt,1,1]), os=np.array([0,-600,0]), dpath=datapath)\n",
    "sep.write_file(datapath+\"ch6_sources0_group1.H\", np.transpose(psrc1), ds=np.array([dt,1,1]), os=np.array([0,0,0]), dpath=datapath)\n",
    "sep.write_file(datapath+\"ch6_sources0_group2.H\", np.transpose(psrc2), ds=np.array([dt,1,1]), os=np.array([0,0,0]), dpath=datapath)"
   ]
  }
 ],
 "metadata": {
  "kernelspec": {
   "display_name": "Python 3 (ipykernel)",
   "language": "python",
   "name": "python3"
  },
  "language_info": {
   "codemirror_mode": {
    "name": "ipython",
    "version": 3
   },
   "file_extension": ".py",
   "mimetype": "text/x-python",
   "name": "python",
   "nbconvert_exporter": "python",
   "pygments_lexer": "ipython3",
   "version": "3.9.0"
  },
  "vscode": {
   "interpreter": {
    "hash": "cc312a6f1c33ac4e33b9a6bb183306aceb209bd3ff803bd9b2f959dc5f86b9f4"
   }
  }
 },
 "nbformat": 4,
 "nbformat_minor": 4
}
