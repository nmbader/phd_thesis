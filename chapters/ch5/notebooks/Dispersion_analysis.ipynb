{
 "cells": [
  {
   "attachments": {},
   "cell_type": "markdown",
   "metadata": {},
   "source": [
    "# Dispersion analysis on P wave on the unstimulated side to support field data FWI results"
   ]
  },
  {
   "cell_type": "code",
   "execution_count": null,
   "metadata": {},
   "outputs": [],
   "source": [
    "import sys\n",
    "\n",
    "pwd = !echo ${PWD}\n",
    "sys.path.append(pwd[0]+\"/../../../code/local/bin\")"
   ]
  },
  {
   "cell_type": "code",
   "execution_count": null,
   "metadata": {},
   "outputs": [],
   "source": [
    "import numpy as np\n",
    "import pandas as pd\n",
    "from scipy import signal\n",
    "from scipy import ndimage\n",
    "import math\n",
    "import matplotlib.pyplot as plt\n",
    "from matplotlib import rcParams\n",
    "from matplotlib.ticker import FormatStrFormatter\n",
    "from matplotlib import patches\n",
    "\n",
    "import seppy\n",
    "import os\n",
    "\n",
    "rcParams['font.size'] = 8\n",
    "rcParams['font.family'] = 'sans-serif'\n",
    "\n",
    "datapath=pwd[0]+\"/../dat/\"\n",
    "figpath=pwd[0]+\"/../fig/\""
   ]
  },
  {
   "cell_type": "code",
   "execution_count": null,
   "metadata": {},
   "outputs": [],
   "source": [
    "# read data, mask, headers, model, source functions\n",
    "\n",
    "sep = seppy.sep()\n",
    "\n",
    "data_axes, data = sep.read_file(datapath+\"../../ch4/dat/ch4_das.H\")\n",
    "pdata = data.reshape(data_axes.n,order='F').T\n",
    "\n",
    "axes, data = sep.read_file(datapath+\"ch5_data.HH\")\n",
    "pattr = data.reshape(axes.n,order='F').T\n",
    "\n",
    "model_axes, data = sep.read_file(datapath+\"ch5_model.H\")\n",
    "pmodel = data.reshape(model_axes.n,order='F').T\n",
    "\n",
    "dt=data_axes.d[0]\n",
    "dx=data_axes.d[1]\n",
    "nt=data_axes.n[0]\n",
    "ntr=data_axes.n[1]\n",
    "ns=data_axes.n[2]\n",
    "\n",
    "sxz=np.zeros((ns,4))\n",
    "sxz[:,0]=pattr[:,0,0]\n",
    "sxz[:,1]=pattr[:,0,19]*1e-5\n",
    "sxz[:,2]=pattr[:,0,21]*1e-5\n",
    "sxz[:,3]=pattr[:,0,4]\n",
    "\n",
    "srxz=np.zeros((ns,ntr,6))\n",
    "srxz[:,:,0]=pattr[:,:,0]\n",
    "srxz[:,:,1]=pattr[:,:,19]*1e-5\n",
    "srxz[:,:,2]=pattr[:,:,21]*1e-5\n",
    "srxz[:,:,3]=pattr[:,:,16]*1e-5\n",
    "srxz[:,:,4]=pattr[:,:,18]*1e-5\n",
    "srxz[:,:,5]=pattr[:,:,24]"
   ]
  },
  {
   "cell_type": "code",
   "execution_count": null,
   "metadata": {},
   "outputs": [],
   "source": [
    "# list of shots to drop for low quality\n",
    "select=np.array([4,9,14,19,22,27,35,41,46,52,57,61,62,66,71,76,77,81,87,90,91,92,95,96,97])\n",
    "pattr[:,:,28]=1\n",
    "pattr[select[:].astype(int),:,28]=0\n",
    "\n",
    "# keep the second perf in each stage\n",
    "sxz1=sxz[pattr[:,0,27]==2,:]\n",
    "srxz1=srxz[pattr[:,0,27]==2,:,:]\n",
    "\n",
    "# Drop the last shot (19 shots remaining)\n",
    "sxz2=sxz1[:-1]\n",
    "srxz2=srxz1[:-1]"
   ]
  },
  {
   "cell_type": "code",
   "execution_count": null,
   "metadata": {},
   "outputs": [],
   "source": [
    "extent=[model_axes.o[1],model_axes.o[1]+(model_axes.n[1]-1)*model_axes.d[1],model_axes.o[0]+(model_axes.n[0]-1)*model_axes.d[0],model_axes.o[0]]\n",
    "\n",
    "plt.figure(figsize=(16,6))\n",
    "plt.imshow(np.transpose(pmodel[0,:,:]),cmap='jet',extent=extent,vmin=2.5,vmax=6.0,interpolation='bilinear', aspect='auto')\n",
    "plt.colorbar().set_label(label=\"km/s\",size=16)\n",
    "plt.scatter(sxz2[:,1],sxz2[:,2],s=50,c=sxz2[:,3],marker='x')\n",
    "plt.xlabel(r'X (km)',fontsize=16)\n",
    "plt.ylabel(r'Depth (km)',fontsize=16)"
   ]
  },
  {
   "cell_type": "code",
   "execution_count": null,
   "metadata": {},
   "outputs": [],
   "source": [
    "# select shots and create groups\n",
    "\n",
    "# group 1: second perf in each stage\n",
    "pdata1=pdata[sxz1[:,0].astype(int),:,:]\n",
    "pattr1=pattr[sxz1[:,0].astype(int),:,:]\n",
    "\n",
    "# group 2: group1 without the last shot\n",
    "pdata2=pdata[sxz2[:,0].astype(int),:,:]\n",
    "pattr2=pattr[sxz2[:,0].astype(int),:,:]"
   ]
  },
  {
   "cell_type": "code",
   "execution_count": null,
   "metadata": {},
   "outputs": [],
   "source": [
    "# compute the frequency-velocity spectra for limited offset range\n",
    "sep.write_file(\"temp.H\", np.transpose(pdata2), ds=np.array([dt,1,1]), os=np.array([0,-800,0]), dpath=pwd[0]+\"/\")\n",
    "\n",
    "!Window < temp.H min2=-300 max2=-100 | FV.x vmin=-6500 vmax=-1500 nv=501 | Transp plane=12 | Smooth rect2=2 repeat=3 > temp.H.fv datapath=./\n",
    "\n",
    "spec_axes, spec = sep.read_file(\"temp.H.fv\")\n",
    "pspec = spec.reshape(spec_axes.n,order='F').T\n",
    "\n",
    "!rm -rf temp.H*"
   ]
  },
  {
   "cell_type": "code",
   "execution_count": null,
   "metadata": {},
   "outputs": [],
   "source": [
    "sp=15\n",
    "p=0.6\n",
    "vmax=p*np.amax(pspec[sp])\n",
    "\n",
    "fig=plt.figure(figsize=(3.33, 2),dpi=300)\n",
    "\n",
    "plt.imshow(np.transpose(pspec[sp]/vmax), interpolation='bilinear', aspect='auto', extent=[0,1000,1.5,6.5],cmap='jet',vmin=0,vmax=1)\n",
    "ellipse = patches.Ellipse(xy=(550, 3.9), width=250, height=0.8, edgecolor='w', fc='None', lw=1, ls='--')\n",
    "plt.gca().add_patch(ellipse)\n",
    "plt.xlim(0,700)\n",
    "plt.ylim(1.5,6.5)\n",
    "plt.xlabel('Frequency (Hz)')\n",
    "plt.ylabel('Phase velocity (km/s)')\n",
    "# plt.grid(color='w', linestyle='-', linewidth=0.2)\n",
    "plt.gca().yaxis.set_major_formatter(FormatStrFormatter('%.1f'))\n",
    "plt.gca().tick_params(axis='both', which='major', labelsize=6)\n",
    "# plt.colorbar(format=\"%.1f\",pad=0.01,shrink=0.5)\n",
    "\n",
    "plt.savefig(figpath+'das_dispersion.png',bbox_inches='tight',format='png')"
   ]
  },
  {
   "cell_type": "code",
   "execution_count": null,
   "metadata": {},
   "outputs": [],
   "source": [
    "# pick the maximum in a given frequency-velocity window\n",
    "fmin=500\n",
    "fmax=600\n",
    "ifmin = int((fmin - spec_axes.o[1]) / spec_axes.d[1])\n",
    "ifmax = int((fmax - spec_axes.o[1]) / spec_axes.d[1])\n",
    "\n",
    "vmin=-5000\n",
    "vmax=-3000\n",
    "ivmin = int((vmin - spec_axes.o[0]) / spec_axes.d[0])\n",
    "ivmax = int((vmax - spec_axes.o[0]) / spec_axes.d[0])\n",
    "\n",
    "indices = np.argmax(pspec[:,ifmin:ifmax,ivmin:ivmax],axis=2) # index of maximum velocity at each frequency\n",
    "maxvel= (indices + ivmin)*spec_axes.d[0] + spec_axes.o[0] # maximum velocity\n",
    "medvel = np.median(maxvel,axis=1) # median of maximum velocities across frequencies\n",
    "meanvel = np.mean(maxvel,axis=1) # average of maximum velocities across frequencies\n",
    "\n",
    "xcoord = srxz2[:,600,3]\n",
    "array = np.array([xcoord,-0.001*medvel])"
   ]
  },
  {
   "cell_type": "code",
   "execution_count": null,
   "metadata": {},
   "outputs": [],
   "source": [
    "# Save the velocity profile to be read in other notebooks for figures\n",
    "np.save(datapath+'dispersion_velocity',array)"
   ]
  },
  {
   "cell_type": "code",
   "execution_count": null,
   "metadata": {},
   "outputs": [],
   "source": [
    "# load the P-wave dispersion velocity profile\n",
    "disperse_vel=np.load(datapath+'dispersion_velocity.npy')"
   ]
  },
  {
   "cell_type": "code",
   "execution_count": null,
   "metadata": {},
   "outputs": [],
   "source": [
    "# figure plot for Chapter 5\n",
    "\n",
    "fig=plt.figure(figsize=(10, 2),dpi=300)\n",
    "\n",
    "plt.plot(disperse_vel[0],disperse_vel[1],linewidth=2, c='k',marker='x')\n",
    "plt.xlim([0,2.05])\n",
    "plt.xlabel('X (km)')\n",
    "plt.ylabel('Velocity (km/s)')\n",
    "plt.tick_params(axis='both', which='major', labelsize=6)\n",
    "plt.grid(color='k', linestyle='-', linewidth=0.2)\n",
    "\n",
    "plt.savefig(figpath+'dispersion_velocity.png',bbox_inches='tight',format='png')"
   ]
  }
 ],
 "metadata": {
  "kernelspec": {
   "display_name": "Python 3",
   "language": "python",
   "name": "python3"
  },
  "language_info": {
   "codemirror_mode": {
    "name": "ipython",
    "version": 3
   },
   "file_extension": ".py",
   "mimetype": "text/x-python",
   "name": "python",
   "nbconvert_exporter": "python",
   "pygments_lexer": "ipython3",
   "version": "3.8.3"
  },
  "vscode": {
   "interpreter": {
    "hash": "cc312a6f1c33ac4e33b9a6bb183306aceb209bd3ff803bd9b2f959dc5f86b9f4"
   }
  }
 },
 "nbformat": 4,
 "nbformat_minor": 4
}
